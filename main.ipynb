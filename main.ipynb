{
 "cells": [
  {
   "cell_type": "code",
   "execution_count": 35,
   "id": "cef4c9e8-6a61-49e2-883a-01b54345047b",
   "metadata": {},
   "outputs": [
    {
     "name": "stdout",
     "output_type": "stream",
     "text": [
      "Tensor filled with zeros:\n",
      "[[0 0 0]\n",
      " [0 0 0]\n",
      " [0 0 0]]\n",
      "int8\n"
     ]
    }
   ],
   "source": [
    "import numpy as np\n",
    "from pyml.tensor import tensor\n",
    "\n",
    "tensor_zeros = tensor.zeros(3, 3, dtype=\"int8\") \n",
    "print(\"Tensor filled with zeros:\")\n",
    "print(tensor_zeros)\n",
    "print(tensor_zeros.dtype)"
   ]
  },
  {
   "cell_type": "code",
   "execution_count": 37,
   "id": "35000581-f0cf-4b7b-84d1-d3bf364995b1",
   "metadata": {},
   "outputs": [
    {
     "ename": "TypeError",
     "evalue": "unsupported operand type(s) for *: 'tensor' and 'tensor'",
     "output_type": "error",
     "traceback": [
      "\u001b[31m---------------------------------------------------------------------------\u001b[39m",
      "\u001b[31mTypeError\u001b[39m                                 Traceback (most recent call last)",
      "\u001b[36mCell\u001b[39m\u001b[36m \u001b[39m\u001b[32mIn[37]\u001b[39m\u001b[32m, line 3\u001b[39m\n\u001b[32m      1\u001b[39m a = tensor([\u001b[32m1\u001b[39m, \u001b[32m2\u001b[39m, \u001b[32m3\u001b[39m], dtype=\u001b[33m'\u001b[39m\u001b[33mint32\u001b[39m\u001b[33m'\u001b[39m)\n\u001b[32m      2\u001b[39m b = tensor([\u001b[32m1\u001b[39m, \u001b[32m2\u001b[39m, \u001b[32m3\u001b[39m], dtype=\u001b[33m'\u001b[39m\u001b[33mfloat32\u001b[39m\u001b[33m'\u001b[39m)\n\u001b[32m----> \u001b[39m\u001b[32m3\u001b[39m \u001b[43ma\u001b[49m\u001b[43m \u001b[49m\u001b[43m*\u001b[49m\u001b[43m \u001b[49m\u001b[43mb\u001b[49m\n",
      "\u001b[31mTypeError\u001b[39m: unsupported operand type(s) for *: 'tensor' and 'tensor'"
     ]
    }
   ],
   "source": [
    "a = tensor([1, 2, 3], dtype='int32')\n",
    "b = tensor([1, 2, 3], dtype='float32')\n",
    "result = a * b\n",
    "print(result.dtype, 'int32')"
   ]
  },
  {
   "cell_type": "code",
   "execution_count": null,
   "id": "c55ae2cf-ed1e-46aa-802b-97cd6305c7b4",
   "metadata": {},
   "outputs": [],
   "source": []
  },
  {
   "cell_type": "code",
   "execution_count": null,
   "id": "2fddee97-aef7-4c6e-b3f8-31b8023a04f5",
   "metadata": {},
   "outputs": [],
   "source": []
  }
 ],
 "metadata": {
  "kernelspec": {
   "display_name": "Python 3 (ipykernel)",
   "language": "python",
   "name": "python3"
  },
  "language_info": {
   "codemirror_mode": {
    "name": "ipython",
    "version": 3
   },
   "file_extension": ".py",
   "mimetype": "text/x-python",
   "name": "python",
   "nbconvert_exporter": "python",
   "pygments_lexer": "ipython3",
   "version": "3.12.3"
  }
 },
 "nbformat": 4,
 "nbformat_minor": 5
}
